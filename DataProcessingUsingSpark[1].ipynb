{
  "nbformat": 4,
  "nbformat_minor": 0,
  "metadata": {
    "colab": {
      "provenance": [],
      "authorship_tag": "ABX9TyPFmTmDOqe1O0HAzWIQ0SGq",
      "include_colab_link": true
    },
    "kernelspec": {
      "name": "python3",
      "display_name": "Python 3"
    },
    "language_info": {
      "name": "python"
    }
  },
  "cells": [
    {
      "cell_type": "markdown",
      "metadata": {
        "id": "view-in-github",
        "colab_type": "text"
      },
      "source": [
        "<a href=\"https://colab.research.google.com/github/EvelynChrisyla/1.DataProcessingUsingSpark/blob/main/DataProcessingUsingSpark%5B1%5D.ipynb\" target=\"_parent\"><img src=\"https://colab.research.google.com/assets/colab-badge.svg\" alt=\"Open In Colab\"/></a>"
      ]
    },
    {
      "cell_type": "code",
      "execution_count": 3,
      "metadata": {
        "colab": {
          "base_uri": "https://localhost:8080/"
        },
        "id": "MX1N7U7GwLcv",
        "outputId": "613bbcf3-c85a-47df-acf0-c3c1ed7ed818"
      },
      "outputs": [
        {
          "output_type": "stream",
          "name": "stdout",
          "text": [
            "Collecting pyspark\n",
            "  Downloading pyspark-3.5.0.tar.gz (316.9 MB)\n",
            "\u001b[2K     \u001b[90m━━━━━━━━━━━━━━━━━━━━━━━━━━━━━━━━━━━━━━━━\u001b[0m \u001b[32m316.9/316.9 MB\u001b[0m \u001b[31m4.5 MB/s\u001b[0m eta \u001b[36m0:00:00\u001b[0m\n",
            "\u001b[?25h  Preparing metadata (setup.py) ... \u001b[?25l\u001b[?25hdone\n",
            "Requirement already satisfied: py4j==0.10.9.7 in /usr/local/lib/python3.10/dist-packages (from pyspark) (0.10.9.7)\n",
            "Building wheels for collected packages: pyspark\n",
            "  Building wheel for pyspark (setup.py) ... \u001b[?25l\u001b[?25hdone\n",
            "  Created wheel for pyspark: filename=pyspark-3.5.0-py2.py3-none-any.whl size=317425344 sha256=7bbff2d354fd71143a45a8c7e38948cd50c6aa2c64809275d724dc2156a304a6\n",
            "  Stored in directory: /root/.cache/pip/wheels/41/4e/10/c2cf2467f71c678cfc8a6b9ac9241e5e44a01940da8fbb17fc\n",
            "Successfully built pyspark\n",
            "Installing collected packages: pyspark\n",
            "Successfully installed pyspark-3.5.0\n"
          ]
        }
      ],
      "source": [
        "!pip install pyspark\n",
        "from pyspark.sql.functions import*\n",
        "from pyspark.sql import SparkSession\n",
        "spark= SparkSession.builder.getOrCreate()"
      ]
    },
    {
      "cell_type": "code",
      "source": [
        "# READ DATA\n",
        "ramen_table = spark.read.option(\"inferSchema\", \"true\").csv(\"MsRamen.csv\", header = True)\n",
        "customer_table = spark.read.option(\"inferSchema\", \"true\").csv(\"MsCustomer.csv\", header = True)\n",
        "country_table= spark.read.option(\"inferSchema\", \"true\").csv(\"MsCountry.csv\", header = True)\n",
        "brand_table= spark.read.option(\"inferSchema\", \"true\").csv(\"MsBrand.csv\", header = True)\n",
        "Transactionheader_table= spark.read.option(\"inferSchema\", \"true\").csv(\"TransactionHeader.csv\", header = True)\n",
        "Transactiondetail_table= spark.read.option(\"inferSchema\", \"true\").csv(\"TransactionDetail.csv\", header = True)"
      ],
      "metadata": {
        "id": "yB23PS9u0jSc"
      },
      "execution_count": 5,
      "outputs": []
    },
    {
      "cell_type": "code",
      "source": [
        "#convert the table into a table that can be read by Spark. because this table is still a dataframe\n",
        "ramen_table.registerTempTable(\"MsRamen\") #name the table\n",
        "customer_table.registerTempTable(\"MsCustomer\")\n",
        "country_table.registerTempTable(\"MsCountry\")\n",
        "brand_table.registerTempTable(\"MsBrand\")\n",
        "Transactionheader_table.registerTempTable(\"TransactionHeader\")\n",
        "Transactiondetail_table.registerTempTable(\"TransactionDetail\")"
      ],
      "metadata": {
        "colab": {
          "base_uri": "https://localhost:8080/"
        },
        "id": "tz2H5vzU5JJs",
        "outputId": "acaa5706-eb18-4495-9473-07c389cdd4fc"
      },
      "execution_count": 6,
      "outputs": [
        {
          "output_type": "stream",
          "name": "stderr",
          "text": [
            "/usr/local/lib/python3.10/dist-packages/pyspark/sql/dataframe.py:329: FutureWarning: Deprecated in 2.0, use createOrReplaceTempView instead.\n",
            "  warnings.warn(\"Deprecated in 2.0, use createOrReplaceTempView instead.\", FutureWarning)\n"
          ]
        }
      ]
    },
    {
      "cell_type": "code",
      "source": [
        "#Checking\n",
        "spark.sql(\"\"\"\n",
        "  SELECT\n",
        "    RamenName\n",
        "  From MsRamen\n",
        "\"\"\").show()"
      ],
      "metadata": {
        "colab": {
          "base_uri": "https://localhost:8080/"
        },
        "id": "3-ZyD87F6ioj",
        "outputId": "90d66845-24e1-4295-fd51-77efe71a21d9"
      },
      "execution_count": 22,
      "outputs": [
        {
          "output_type": "stream",
          "name": "stdout",
          "text": [
            "+--------------------+\n",
            "|           RamenName|\n",
            "+--------------------+\n",
            "|T's Restaurant Ta...|\n",
            "|Noodles Spicy Hot...|\n",
            "|Cup Noodles Chick...|\n",
            "|GGE Ramen Snack T...|\n",
            "|     Singapore Curry|\n",
            "|Kimchi song Song ...|\n",
            "|Spice Deli Tantan...|\n",
            "|Nabeyaki Kitsune ...|\n",
            "|Hokkaido Soy Sauc...|\n",
            "|The Original Spic...|\n",
            "|Creamy tom Yum Ku...|\n",
            "|Yokohama Tonkotsu...|\n",
            "|Mr. Bibim Stir-Fr...|\n",
            "|Deka Buto Kimchi ...|\n",
            "|Demae Ramen Bar N...|\n",
            "|Mushroom Flavour ...|\n",
            "|Mario Masala Noodles|\n",
            "|   Tokyo Shoyu Ramen|\n",
            "|          Mi Hai Cua|\n",
            "|     Premium Gomtang|\n",
            "+--------------------+\n",
            "only showing top 20 rows\n",
            "\n"
          ]
        }
      ]
    },
    {
      "cell_type": "markdown",
      "source": [
        "**1.  Show Top 5 Customer with the most transactions**\n"
      ],
      "metadata": {
        "id": "QWeqK1dceFCK"
      }
    },
    {
      "cell_type": "code",
      "source": [
        "# Show Top 5 Customer with the most transactions\n",
        "\n",
        "spark.sql(\"\"\"\n",
        " SELECT\n",
        "  CustomerName,\n",
        "  COUNT(th.TransactionID) AS Totaltransaction\n",
        " FROM MsCustomer mc\n",
        " JOIN TransactionHeader th\n",
        " ON mc.CustomerID = th.CustomerID\n",
        " GROUP BY CustomerName\n",
        " ORDER BY TotalTRansaction DESC\n",
        " LIMIT 5\n",
        "\"\"\").show()"
      ],
      "metadata": {
        "colab": {
          "base_uri": "https://localhost:8080/"
        },
        "id": "kJw4I45G7HOX",
        "outputId": "8519227f-5212-4561-c00c-443d540cf7fb"
      },
      "execution_count": 8,
      "outputs": [
        {
          "output_type": "stream",
          "name": "stdout",
          "text": [
            "+----------------+----------------+\n",
            "|    CustomerName|Totaltransaction|\n",
            "+----------------+----------------+\n",
            "|    Elsa Hellens|              12|\n",
            "|   Nevil Batisse|              11|\n",
            "|  Karisa Tirrell|              11|\n",
            "|Sergio Ungaretti|              11|\n",
            "|  Fanya Glasscoe|              10|\n",
            "+----------------+----------------+\n",
            "\n"
          ]
        }
      ]
    },
    {
      "cell_type": "code",
      "source": [
        "customer_table.join(Transactionheader_table, \"CustomerID\").groupBy(\"CustomerName\").agg(count(\"TransactionID\").alias(\"TotalTransaction\")).orderBy(\"TotalTransaction\",ascending=False).limit(5).show()\n"
      ],
      "metadata": {
        "colab": {
          "base_uri": "https://localhost:8080/"
        },
        "id": "DALGrqJhOdK2",
        "outputId": "4a877c04-1a3d-4f99-922a-d6ea25c25445"
      },
      "execution_count": 9,
      "outputs": [
        {
          "output_type": "stream",
          "name": "stdout",
          "text": [
            "+----------------+----------------+\n",
            "|    CustomerName|TotalTransaction|\n",
            "+----------------+----------------+\n",
            "|    Elsa Hellens|              12|\n",
            "|   Nevil Batisse|              11|\n",
            "|  Karisa Tirrell|              11|\n",
            "|Sergio Ungaretti|              11|\n",
            "|  Fanya Glasscoe|              10|\n",
            "+----------------+----------------+\n",
            "\n"
          ]
        }
      ]
    },
    {
      "cell_type": "markdown",
      "source": [
        "**2. Show top 5 customer has spend the most in RamenShop with the quantity of transaction they bought is lower than the average quantity of all transaction.**"
      ],
      "metadata": {
        "id": "8DCY12dxdeNG"
      }
    },
    {
      "cell_type": "code",
      "source": [
        "spark.sql(\"\"\"\n",
        "  SELECT CustomerName, TotalSpend\n",
        "  FROM (\n",
        "    SELECT mc.CustomerName, SUM(td.Quantity * mr.RamenPrice) AS TotalSpend\n",
        "    FROM MsCustomer mc\n",
        "    JOIN TransactionHeader th ON mc.CustomerID = th.CustomerID\n",
        "    JOIN TransactionDetail td ON th.TransactionID = td.TransactionID\n",
        "    JOIN MsRamen mr ON mr.RamenID = td.RamenID\n",
        "    GROUP BY mc.CustomerName\n",
        "    HAVING SUM(td.Quantity) < (SELECT AVG(Quantity) FROM TransactionDetail)\n",
        "  ) AS subquery\n",
        "  ORDER BY TotalSpend DESC\n",
        "  LIMIT 5\n",
        "\"\"\").show()\n"
      ],
      "metadata": {
        "colab": {
          "base_uri": "https://localhost:8080/"
        },
        "id": "j0urhbX-Q-_p",
        "outputId": "ee815ddf-e501-4b7f-ff94-8f523d729a16"
      },
      "execution_count": 13,
      "outputs": [
        {
          "output_type": "stream",
          "name": "stdout",
          "text": [
            "+------------------+----------+\n",
            "|      CustomerName|TotalSpend|\n",
            "+------------------+----------+\n",
            "| Bobine Priestland|    200000|\n",
            "|  Karlene Campbell|    190000|\n",
            "|      Earvin Covey|    187000|\n",
            "|Nikoletta Chetwynd|    184000|\n",
            "|    Artur Gibbeson|    179000|\n",
            "+------------------+----------+\n",
            "\n"
          ]
        }
      ]
    },
    {
      "cell_type": "markdown",
      "source": [
        "**3. Show the Fequency of membership in RamenShop. Each Customer membership is determined by below condition:**\n",
        "\n",
        "\n",
        "\n",
        "\n",
        "    Total Transaction  | Membership     \n",
        "          <5               Bronze\n",
        "\n",
        "          5-10             Silver\n",
        "\n",
        "          >10               Gold    "
      ],
      "metadata": {
        "id": "s-Eqb5eZZYUD"
      }
    },
    {
      "cell_type": "code",
      "source": [
        "spark.sql(\"\"\"\n",
        "    SELECT CustomerName,\n",
        "    COUNT(th.TransactionID),\n",
        "      CASE\n",
        "        WHEN COUNT(th.TransactionID) <5 THEN \"Bronze\"\n",
        "        WHEN COUNT(th.TransactionID) >10 THEN \"Gold\"\n",
        "        ELSE \"Silver\"\n",
        "      END AS Membership\n",
        "    FROM MsCustomer mc\n",
        "    JOIN TransactionHeader th\n",
        "    ON mc.CustomerID = th.CustomerID\n",
        "    GROUP BY  CustomerName\n",
        "\"\"\").show()\n"
      ],
      "metadata": {
        "colab": {
          "base_uri": "https://localhost:8080/"
        },
        "id": "k2q7eNTsaLpF",
        "outputId": "43eacedb-019c-4556-b0d4-790aa414ad91"
      },
      "execution_count": 21,
      "outputs": [
        {
          "output_type": "stream",
          "name": "stdout",
          "text": [
            "+----------------+--------------------+----------+\n",
            "|    CustomerName|count(TransactionID)|Membership|\n",
            "+----------------+--------------------+----------+\n",
            "|Lorene MacParlan|                   4|    Bronze|\n",
            "|   Jacobo Zemler|                   4|    Bronze|\n",
            "|   Arney Dunkley|                   5|    Silver|\n",
            "|  Rhona Sutterby|                   6|    Silver|\n",
            "|     Marve Dagon|                   6|    Silver|\n",
            "|  Marilin Balfre|                   5|    Silver|\n",
            "| Salomi Georgins|                   4|    Bronze|\n",
            "|  Clint Faulkner|                   4|    Bronze|\n",
            "| Kaitlyn McKaile|                   5|    Silver|\n",
            "|    Stan Twydell|                   3|    Bronze|\n",
            "|   Willey Mepham|                   4|    Bronze|\n",
            "| Gabbey Silcocks|                   4|    Bronze|\n",
            "|    Debee Kenson|                   6|    Silver|\n",
            "|Ellette Gonsalvo|                   3|    Bronze|\n",
            "|     Rhett Marco|                   2|    Bronze|\n",
            "| Windham Houlson|                   3|    Bronze|\n",
            "|     Lenci Brace|                   4|    Bronze|\n",
            "| Kingsly Dabling|                   4|    Bronze|\n",
            "| Aila Tomaszczyk|                   1|    Bronze|\n",
            "| Rudolph Tetther|                   4|    Bronze|\n",
            "+----------------+--------------------+----------+\n",
            "only showing top 20 rows\n",
            "\n"
          ]
        }
      ]
    }
  ]
}